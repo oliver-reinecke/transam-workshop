{
 "cells": [
  {
   "cell_type": "code",
   "execution_count": 0,
   "metadata": {},
   "outputs": [],
   "source": [
    "# -*- coding: utf-8 -*-\n",
    "import dataiku\n",
    "import pandas as pd\n",
    "# Import the custom function from your project library\n",
    "from myfunctions import check_for_alert"
   ]
  },
  {
   "cell_type": "code",
   "execution_count": 0,
   "metadata": {},
   "outputs": [],
   "source": [
    "# Get input and output datasets directly by their names\n",
    "input_dataset = dataiku.Dataset(\"unified_weekly_metrics_windows\")\n",
    "output_dataset = dataiku.Dataset(\"python_leading_indicators_w_alerts\")"
   ]
  },
  {
   "cell_type": "code",
   "execution_count": 0,
   "metadata": {},
   "outputs": [],
   "source": [
    "# Read the input dataset into a Pandas DataFrame\n",
    "df = input_dataset.get_dataframe()"
   ]
  },
  {
   "cell_type": "code",
   "execution_count": 0,
   "metadata": {},
   "outputs": [],
   "source": [
    "# --- Ensure correct data types and sort for rolling averages ---\n",
    "# Convert 'week_start' to datetime if not already\n",
    "df['week_start'] = pd.to_datetime(df['week_start'])\n",
    "# Sort data to ensure rolling calculations are correct\n",
    "df = df.sort_values(by=['region', 'week_start'])"
   ]
  },
  {
   "cell_type": "code",
   "execution_count": 0,
   "metadata": {},
   "outputs": [],
   "source": [
    "# --- Calculate % Change vs. Rolling Average for each metric ---\n",
    "# Ensure rolling average columns are numeric, coerce errors to NaN\n",
    "# NOTE: Column names updated to match the new schema (e.g., quotesCreated_rolling_avg)\n",
    "df['new_applications_rolling_avg'] = pd.to_numeric(df['new_applications_rolling_avg'], errors='coerce')\n",
    "df['logins_rolling_avg'] = pd.to_numeric(df['logins_rolling_avg'], errors='coerce')\n",
    "df['quotesCreated_rolling_avg'] = pd.to_numeric(df['quotesCreated_rolling_avg'], errors='coerce')\n",
    "df['revenueUSD_rolling_avg'] = pd.to_numeric(df['revenueUSD_rolling_avg'], errors='coerce')"
   ]
  },
  {
   "cell_type": "code",
   "execution_count": 0,
   "metadata": {},
   "outputs": [],
   "source": [
    "# Calculate percentage change, handling division by zero or NaN rolling averages\n",
    "def calculate_change(current_value, rolling_avg):\n",
    "    if pd.notna(rolling_avg) and rolling_avg != 0:\n",
    "        return (current_value - rolling_avg) / rolling_avg\n",
    "    return 0 # Or NaN, depending on desired behavior for no rolling average\n",
    "\n",
    "# NOTE: Column names updated to match the new schema (e.g., quotesCreated_sum, revenueUSD_sum)\n",
    "#       and new column names made consistent.\n",
    "df['new_applications_change_vs_avg'] = df.apply(\n",
    "    lambda row: calculate_change(row['new_applications_sum'], row['new_applications_rolling_avg']),\n",
    "    axis=1\n",
    ")\n",
    "df['logins_change_vs_avg'] = df.apply(\n",
    "    lambda row: calculate_change(row['logins_sum'], row['logins_rolling_avg']),\n",
    "    axis=1\n",
    ")\n",
    "df['quotesCreated_change_vs_avg'] = df.apply(\n",
    "    lambda row: calculate_change(row['quotesCreated_sum'], row['quotesCreated_rolling_avg']),\n",
    "    axis=1\n",
    ")\n",
    "df['revenueUSD_change_vs_avg'] = df.apply(\n",
    "    lambda row: calculate_change(row['revenueUSD_sum'], row['revenueUSD_rolling_avg']),\n",
    "    axis=1\n",
    ")"
   ]
  },
  {
   "cell_type": "code",
   "execution_count": 0,
   "metadata": {},
   "outputs": [],
   "source": [
    "# --- Calculate Alert Flag using the imported function and project variable ---\n",
    "# Retrieve the custom variable for the alert threshold\n",
    "alert_threshold = float(dataiku.get_custom_variables()[\"alert_threshold\"])\n",
    "\n",
    "# Apply the check_for_alert function for each metric\n",
    "# NOTE: Column names for change metrics and new alert flags updated for consistency.\n",
    "df['alert_flag_applications'] = df['new_applications_change_vs_avg'].apply(check_for_alert, alert_threshold=alert_threshold)\n",
    "df['alert_flag_logins'] = df['logins_change_vs_avg'].apply(check_for_alert, alert_threshold=alert_threshold)\n",
    "df['alert_flag_quotesCreated'] = df['quotesCreated_change_vs_avg'].apply(check_for_alert, alert_threshold=alert_threshold)\n",
    "df['alert_flag_revenueUSD'] = df['revenueUSD_change_vs_avg'].apply(check_for_alert, alert_threshold=alert_threshold)\n",
    "\n",
    "# Combine all alert flags into a single 'overall_alert_flag'\n",
    "# NOTE: Individual alert flag column names updated.\n",
    "df['overall_alert_flag'] = (df['alert_flag_applications'] | df['alert_flag_logins'] |\n",
    "                            df['alert_flag_quotesCreated'] | df['alert_flag_revenueUSD']).astype(int)"
   ]
  },
  {
   "cell_type": "code",
   "execution_count": 0,
   "metadata": {},
   "outputs": [],
   "source": [
    "# Write the result to the output dataset\n",
    "output_dataset.write_with_schema(df)"
   ]
  },
  {
   "cell_type": "code",
   "execution_count": 0,
   "metadata": {},
   "outputs": [],
   "source": [
    "# Recipe outputs\n",
    "# NOTE: Corrected the DataFrame variable name from 'pandas_dataframe' to 'df'\n",
    "python_leading_indicators_w_alerts = dataiku.Dataset(\"python_leading_indicators_w_alerts\")\n",
    "python_leading_indicators_w_alerts.write_with_schema(df)"
   ]
  }
 ],
 "metadata": {
  "createdOn": 1752771895738,
  "creationTag": {
   "lastModifiedBy": {
    "login": "oliver.reinecke@dataiku.com"
   },
   "lastModifiedOn": 1752771895738,
   "versionNumber": 0
  },
  "creator": "oliver.reinecke@dataiku.com",
  "customFields": {},
  "dkuGit": {
   "gitReference": {
    "checkout": "main",
    "isDirty": false,
    "lastHash": "bd598b6c88494b8a982569bd6fd47b01603320b2",
    "lastTimestamp": 1753212683000,
    "remote": "https://github.com/oliver-reinecke/transam-workshop.git",
    "remoteLogin": "",
    "remotePath": "leading_indicators.ipynb"
   },
   "lastInteraction": 1753225457618
  },
  "hide_input": false,
  "kernelspec": {
   "display_name": "Python (env py_39)",
   "language": "python",
   "name": "py-dku-venv-py_39"
  },
  "language_info": {
   "codemirror_mode": {
    "name": "ipython",
    "version": 3
   },
   "file_extension": ".py",
   "mimetype": "text/x-python",
   "name": "python",
   "nbconvert_exporter": "python",
   "pygments_lexer": "ipython3",
   "version": "3.9.21"
  },
  "modifiedBy": "oliver.reinecke@dataiku.com",
  "tags": [
   "recipe-editor"
  ]
 },
 "nbformat": 4,
 "nbformat_minor": 1
}
